{
 "cells": [
  {
   "cell_type": "code",
   "execution_count": 2,
   "metadata": {},
   "outputs": [],
   "source": [
    "import pandas as pd"
   ]
  },
  {
   "cell_type": "code",
   "execution_count": 3,
   "metadata": {},
   "outputs": [
    {
     "name": "stdout",
     "output_type": "stream",
     "text": [
      "    Age   Experience  Rank Nationality   Go\n",
      "0     36          10     9          UK   NO\n",
      "1     42          12     4         USA   NO\n",
      "2     23           4     6           N   NO\n",
      "3     52           4     4         USA   NO\n",
      "4     43          21     8         USA  YES\n",
      "5     44          14     5          UK   NO\n",
      "6     66           3     7           N  YES\n",
      "7     35          14     9          UK  YES\n",
      "8     52          13     7           N  YES\n",
      "9     35           5     9           N  YES\n",
      "10    24           3     5         USA   NO\n",
      "11    18           3     7          UK  YES\n",
      "12    45           9     9          UK  YES\n"
     ]
    }
   ],
   "source": [
    "df = pd.read_csv(\"data.csv\")\n",
    "print(df)"
   ]
  },
  {
   "cell_type": "code",
   "execution_count": 4,
   "metadata": {},
   "outputs": [
    {
     "name": "stdout",
     "output_type": "stream",
     "text": [
      "    Age   Experience  Rank  Nationality  Go\n",
      "0     36          10     9            0   0\n",
      "1     42          12     4            1   0\n",
      "2     23           4     6            2   0\n",
      "3     52           4     4            1   0\n",
      "4     43          21     8            1   1\n",
      "5     44          14     5            0   0\n",
      "6     66           3     7            2   1\n",
      "7     35          14     9            0   1\n",
      "8     52          13     7            2   1\n",
      "9     35           5     9            2   1\n",
      "10    24           3     5            1   0\n",
      "11    18           3     7            0   1\n",
      "12    45           9     9            0   1\n"
     ]
    }
   ],
   "source": [
    "d  = {'UK': 0, 'USA': 1, 'N': 2}\n",
    "df['Nationality'] = df['Nationality'].map(d)\n",
    "d = {'NO': 0, 'YES': 1}\n",
    "df['Go'] = df['Go'].map(d)\n",
    "\n",
    "print(df)"
   ]
  },
  {
   "cell_type": "code",
   "execution_count": 10,
   "metadata": {},
   "outputs": [
    {
     "name": "stdout",
     "output_type": "stream",
     "text": [
      "    Age   Experience  Rank  Nationality\n",
      "0     36          10     9            0\n",
      "1     42          12     4            1\n",
      "2     23           4     6            2\n",
      "3     52           4     4            1\n",
      "4     43          21     8            1\n",
      "5     44          14     5            0\n",
      "6     66           3     7            2\n",
      "7     35          14     9            0\n",
      "8     52          13     7            2\n",
      "9     35           5     9            2\n",
      "10    24           3     5            1\n",
      "11    18           3     7            0\n",
      "12    45           9     9            0\n",
      "0     0\n",
      "1     0\n",
      "2     0\n",
      "3     0\n",
      "4     1\n",
      "5     0\n",
      "6     1\n",
      "7     1\n",
      "8     1\n",
      "9     1\n",
      "10    0\n",
      "11    1\n",
      "12    1\n",
      "Name: Go, dtype: int64\n"
     ]
    }
   ],
   "source": [
    "features = ['Age ', 'Experience', 'Rank', 'Nationality']\n",
    "X = df[features] # predict from\n",
    "y = df['Go'] # to predict\n",
    "\n",
    "print(X)\n",
    "print(y)"
   ]
  },
  {
   "cell_type": "code",
   "execution_count": 11,
   "metadata": {},
   "outputs": [],
   "source": [
    "from sklearn import tree\n",
    "from sklearn.tree import DecisionTreeClassifier\n",
    "import matplotlib.pyplot as plt"
   ]
  },
  {
   "cell_type": "code",
   "execution_count": 12,
   "metadata": {},
   "outputs": [
    {
     "data": {
      "text/plain": [
       "DecisionTreeClassifier()"
      ]
     },
     "execution_count": 12,
     "metadata": {},
     "output_type": "execute_result"
    }
   ],
   "source": [
    "dtree = DecisionTreeClassifier()\n",
    "dtree.fit(X, y)"
   ]
  },
  {
   "cell_type": "code",
   "execution_count": 13,
   "metadata": {},
   "outputs": [
    {
     "data": {
      "text/plain": [
       "[Text(133.92000000000002, 195.696, 'Rank <= 6.5\\ngini = 0.497\\nsamples = 13\\nvalue = [6, 7]'),\n",
       " Text(66.96000000000001, 152.208, 'gini = 0.0\\nsamples = 5\\nvalue = [5, 0]'),\n",
       " Text(200.88000000000002, 152.208, 'Nationality <= 0.5\\ngini = 0.219\\nsamples = 8\\nvalue = [1, 7]'),\n",
       " Text(133.92000000000002, 108.72, 'Experience <= 9.5\\ngini = 0.375\\nsamples = 4\\nvalue = [1, 3]'),\n",
       " Text(66.96000000000001, 65.232, 'gini = 0.0\\nsamples = 2\\nvalue = [0, 2]'),\n",
       " Text(200.88000000000002, 65.232, 'Experience <= 12.0\\ngini = 0.5\\nsamples = 2\\nvalue = [1, 1]'),\n",
       " Text(133.92000000000002, 21.744, 'gini = 0.0\\nsamples = 1\\nvalue = [1, 0]'),\n",
       " Text(267.84000000000003, 21.744, 'gini = 0.0\\nsamples = 1\\nvalue = [0, 1]'),\n",
       " Text(267.84000000000003, 108.72, 'gini = 0.0\\nsamples = 4\\nvalue = [0, 4]')]"
      ]
     },
     "execution_count": 13,
     "metadata": {},
     "output_type": "execute_result"
    },
    {
     "data": {
      "image/png": "[encoded data removed]",
      "text/plain": [
       "<Figure size 432x288 with 1 Axes>"
      ]
     },
     "metadata": {
      "needs_background": "light"
     },
     "output_type": "display_data"
    }
   ],
   "source": [
    "tree.plot_tree(dtree, feature_names=features)"
   ]
  },
  {
   "cell_type": "code",
   "execution_count": 14,
   "metadata": {},
   "outputs": [
    {
     "name": "stdout",
     "output_type": "stream",
     "text": [
      "[1]\n"
     ]
    }
   ],
   "source": [
    "print(dtree.predict([[40, 10, 7, 1]]))"
   ]
  },
  {
   "cell_type": "code",
   "execution_count": 15,
   "metadata": {},
   "outputs": [
    {
     "name": "stdout",
     "output_type": "stream",
     "text": [
      "[0]\n"
     ]
    }
   ],
   "source": [
    "print(dtree.predict([[40, 10, 6, 1]]))"
   ]
  }
 ],
 "metadata": {
  "kernelspec": {
   "display_name": "base",
   "language": "python",
   "name": "python3"
  },
  "language_info": {
   "codemirror_mode": {
    "name": "ipython",
    "version": 3
   },
   "file_extension": ".py",
   "mimetype": "text/x-python",
   "name": "python",
   "nbconvert_exporter": "python",
   "pygments_lexer": "ipython3",
   "version": "3.9.7"
  },
  "orig_nbformat": 4,
  "vscode": {
   "interpreter": {
    "hash": "73bb9f2029e9b1a0264d1ec2a15d81d615730c5ffd3a4d40a304481055a0d32c"
   }
  }
 },
 "nbformat": 4,
 "nbformat_minor": 2
}
